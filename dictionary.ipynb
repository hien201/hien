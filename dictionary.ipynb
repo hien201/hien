{
 "cells": [
  {
   "cell_type": "markdown",
   "id": "bd7a2c47",
   "metadata": {},
   "source": [
    "## Create a dictionary"
   ]
  },
  {
   "cell_type": "markdown",
   "id": "cec3e16f",
   "metadata": {},
   "source": [
    "### 1.Từ list 1 chiều với dict comprehention"
   ]
  },
  {
   "cell_type": "code",
   "execution_count": 5,
   "id": "358c5516",
   "metadata": {},
   "outputs": [
    {
     "data": {
      "text/plain": [
       "{1: 2, 2: 3, 3: 4, 4: 5, 5: 6, 6: 7, 7: 8}"
      ]
     },
     "execution_count": 5,
     "metadata": {},
     "output_type": "execute_result"
    }
   ],
   "source": [
    "\n",
    "A= [1,2,3,4,5,6,7,8]\n",
    "B= {A[i]:A[i+1] for i in range(0,len(A)-1)}\n",
    "B"
   ]
  },
  {
   "cell_type": "markdown",
   "id": "62cb7832",
   "metadata": {},
   "source": [
    "### 2. Với hàm enumerate\n",
    " Hàm này giúp hiển thị index đính kèm của value đồng thời lấy index đó làm key luôn"
   ]
  },
  {
   "cell_type": "code",
   "execution_count": 8,
   "id": "46a93a26",
   "metadata": {},
   "outputs": [],
   "source": [
    "A= ['a','b','c','d']"
   ]
  },
  {
   "cell_type": "code",
   "execution_count": 9,
   "id": "8102958e",
   "metadata": {},
   "outputs": [
    {
     "name": "stdout",
     "output_type": "stream",
     "text": [
      "{0: 'a', 1: 'b', 2: 'c', 3: 'd'}\n"
     ]
    }
   ],
   "source": [
    "B= dict()\n",
    "for index, value in enumerate(A):\n",
    "    B[index]=value\n",
    "print(B)"
   ]
  },
  {
   "cell_type": "markdown",
   "id": "95564cf3",
   "metadata": {},
   "source": [
    "### 3. Với hàm ZIP"
   ]
  },
  {
   "cell_type": "code",
   "execution_count": 15,
   "id": "51c3c0d0",
   "metadata": {},
   "outputs": [
    {
     "name": "stdout",
     "output_type": "stream",
     "text": [
      "{1: 'a', 2: 'b', 3: 'c', 4: 'd', 5: 'f'}\n"
     ]
    }
   ],
   "source": [
    "A1= [1,2,3,4,5]\n",
    "B1= ['a','b','c','d','f']\n",
    "print(dict(zip(A1,B1)))"
   ]
  },
  {
   "cell_type": "code",
   "execution_count": 16,
   "id": "641125c8",
   "metadata": {},
   "outputs": [
    {
     "name": "stdout",
     "output_type": "stream",
     "text": [
      "{1: 'a', 2: 'b', 3: 'c', 4: 'd', 5: 'f'}\n"
     ]
    }
   ],
   "source": [
    "def to_dict(keys, values):\n",
    "    print(dict(zip(keys,values)))\n",
    "to_dict(A1,B1)"
   ]
  },
  {
   "cell_type": "markdown",
   "id": "e2f74365",
   "metadata": {},
   "source": [
    "### 4. Tạo dictionary từ list 2 chiều:\n",
    "my_dict= {}\n",
    "\n",
    "list1=....\n",
    "\n",
    "list2=...\n",
    "\n",
    "for key, value in zip(list1, list2):\n",
    "\n",
    "    if key not in my_dict():\n",
    "    \n",
    "        my_dict[key]=[value]\n",
    "        \n",
    "    else:\n",
    "    \n",
    "        my_dict[key].append(value)\n",
    "        \n",
    "print(my_dict)\n",
    "\n",
    "\n",
    "ví dụ: tạo một sictionay từ list 2 chiều sau và sắp xếp value theo chiều giảm dần"
   ]
  },
  {
   "cell_type": "code",
   "execution_count": 136,
   "id": "7c183229",
   "metadata": {},
   "outputs": [],
   "source": [
    "X= [['A', '1'], ['B', '2'], ['C', '3'], ['A', '4'], ['B', '5'], ['C','6'], ['A','1'], ['B','1'],['D','3'],['C', '1']]\n",
    "X.sort(key= lambda x: x[1], reverse= True)"
   ]
  },
  {
   "cell_type": "code",
   "execution_count": 137,
   "id": "691ac2b4",
   "metadata": {},
   "outputs": [],
   "source": [
    "A2=[X[i][0] for i in range(len(X))]\n",
    "B2=[X[i][1] for i in range(len(X))]"
   ]
  },
  {
   "cell_type": "code",
   "execution_count": 142,
   "id": "6ab0814e",
   "metadata": {},
   "outputs": [
    {
     "name": "stdout",
     "output_type": "stream",
     "text": [
      "{'C': ['6', '3', '1'], 'B': ['5', '2', '1'], 'A': ['4', '1', '1'], 'D': ['3']}\n"
     ]
    }
   ],
   "source": [
    "dict_1={}\n",
    "for key,value in zip(A2,B2):\n",
    "    if key not in dict_1:\n",
    "        dict_1[key]=[value]   #dict_1= {'A':[1],'B':[2],'C':[3],'D':[3]}\n",
    "        # lúc này dict_1 chưa có key, nó sẽ nhận vào key \"A\" và value đầu tiên\n",
    "    else:\n",
    "        dict_1[key].append(value)     \n",
    "         # lúc này dict_1 đã có key rồi, nó cộng thêm giá trị vào cuối mỗi value\n",
    "print(dict_1)"
   ]
  },
  {
   "cell_type": "code",
   "execution_count": 67,
   "id": "3a183636",
   "metadata": {},
   "outputs": [
    {
     "data": {
      "text/plain": [
       "dict_items([('C', ['6', '3', '1']), ('B', ['5', '2', '1']), ('A', ['4', '1', '1']), ('D', ['3'])])"
      ]
     },
     "execution_count": 67,
     "metadata": {},
     "output_type": "execute_result"
    }
   ],
   "source": [
    "dict_1.items()"
   ]
  },
  {
   "cell_type": "code",
   "execution_count": 71,
   "id": "bb7a9a82",
   "metadata": {},
   "outputs": [],
   "source": [
    "dict_2= dict(sorted(dict_1.items(), key= lambda x: x[0]))"
   ]
  },
  {
   "cell_type": "code",
   "execution_count": 72,
   "id": "ecafe987",
   "metadata": {},
   "outputs": [
    {
     "data": {
      "text/plain": [
       "{'A': ['4', '1', '1'], 'B': ['5', '2', '1'], 'C': ['6', '3', '1'], 'D': ['3']}"
      ]
     },
     "execution_count": 72,
     "metadata": {},
     "output_type": "execute_result"
    }
   ],
   "source": [
    "dict_2"
   ]
  },
  {
   "cell_type": "code",
   "execution_count": 74,
   "id": "4cec62eb",
   "metadata": {},
   "outputs": [
    {
     "data": {
      "text/plain": [
       "[2, 3, 4, 5, 6, 7]"
      ]
     },
     "execution_count": 74,
     "metadata": {},
     "output_type": "execute_result"
    }
   ],
   "source": [
    "x= [1,2,3,4,5,6,7]\n",
    "x[1:]"
   ]
  },
  {
   "cell_type": "markdown",
   "id": "b706bdbf",
   "metadata": {},
   "source": [
    "ví dụ: "
   ]
  },
  {
   "cell_type": "code",
   "execution_count": 2,
   "id": "acac5b8b",
   "metadata": {},
   "outputs": [],
   "source": [
    "Y= [['a',1,2,3],['b',5,2,4],['c',8,4,5],['d',7,6,4],['a',8,4,2]]\n"
   ]
  },
  {
   "cell_type": "code",
   "execution_count": 3,
   "id": "4ba4135f",
   "metadata": {
    "scrolled": true
   },
   "outputs": [
    {
     "name": "stdout",
     "output_type": "stream",
     "text": [
      "['a', 'b', 'c', 'd', 'a'] [[1, 2, 3], [5, 2, 4], [8, 4, 5], [7, 6, 4], [8, 4, 2]]\n"
     ]
    }
   ],
   "source": [
    "Y1= [Y[i][0] for i in range(len(Y))]\n",
    "Y2= [Y[i][1:] for i in range(len(Y))]\n",
    "print(Y1, Y2)"
   ]
  },
  {
   "cell_type": "code",
   "execution_count": 4,
   "id": "0df1733a",
   "metadata": {},
   "outputs": [
    {
     "name": "stdout",
     "output_type": "stream",
     "text": [
      "{'a': [[1, 2, 3], [8, 4, 2]], 'b': [[5, 2, 4]], 'c': [[8, 4, 5]], 'd': [[7, 6, 4]]}\n"
     ]
    }
   ],
   "source": [
    "d= {}\n",
    "for key, value in zip(Y1, Y2):\n",
    "    if key not in d:\n",
    "        d[key]= [value]\n",
    "    else:\n",
    "        d[key].append(value)\n",
    "print(d)"
   ]
  },
  {
   "cell_type": "markdown",
   "id": "c9d1e4de",
   "metadata": {},
   "source": [
    "### 5. Sort a dictionary\n",
    "- dict_sort= sorted(s.items(), key= lambda x: x[0])    ---> by key\n",
    "\n",
    "\n",
    "- dict_sort= sorted(s.items(), key= lambda x: x[1])    -----> by value\n",
    "\n",
    "example:"
   ]
  },
  {
   "cell_type": "code",
   "execution_count": 1,
   "id": "3176716b",
   "metadata": {},
   "outputs": [
    {
     "name": "stdout",
     "output_type": "stream",
     "text": [
      "{'a': [5, 6, 3], 'b': [1, 1, 2], 'c': [1, 8, 2], 'd': [2, 4, 3], 'f': [7, 3, 5]}\n"
     ]
    }
   ],
   "source": [
    "def sort_dict(n):\n",
    "    x= sorted(n.items(), key= lambda x:x[1])\n",
    "    return dict(sorted(x, key= lambda x: x[0]))\n",
    "dict_3= {'d':[2,4,3],'f':[7,3,5],'a':[5,6,3],'c':[1,8,2],'b':[1,1,2]}\n",
    "print(sort_dict(dict_3))"
   ]
  },
  {
   "cell_type": "code",
   "execution_count": null,
   "id": "b37cf965",
   "metadata": {},
   "outputs": [],
   "source": []
  },
  {
   "cell_type": "markdown",
   "id": "f8c3fe43",
   "metadata": {},
   "source": [
    "# MAPPING TYPE- DICT"
   ]
  },
  {
   "cell_type": "code",
   "execution_count": 47,
   "id": "566c3b24",
   "metadata": {},
   "outputs": [],
   "source": [
    "# pre_data\n",
    "D={'a':2,'b':2,'c':3,'c':4,'e':5}\n",
    "d={'a':3,'c':4,'f':5,'g':7}\n",
    "list_B= [12,13,4,5,6,8,11]\n",
    "list_C=['A','C','R','E']"
   ]
  },
  {
   "cell_type": "markdown",
   "id": "4285b4b9",
   "metadata": {},
   "source": [
    "##### list(D)\n",
    "- return: một list chứa các key của dict"
   ]
  },
  {
   "cell_type": "code",
   "execution_count": 18,
   "id": "82b1bbb8",
   "metadata": {},
   "outputs": [
    {
     "data": {
      "text/plain": [
       "['a', 'c', 'f', 'g']"
      ]
     },
     "execution_count": 18,
     "metadata": {},
     "output_type": "execute_result"
    }
   ],
   "source": [
    "list(d)"
   ]
  },
  {
   "cell_type": "markdown",
   "id": "c695d23d",
   "metadata": {},
   "source": [
    "##### len(D)\n",
    "- Return: chiều dài của list chứa các key "
   ]
  },
  {
   "cell_type": "code",
   "execution_count": 21,
   "id": "635fcf9e",
   "metadata": {},
   "outputs": [
    {
     "data": {
      "text/plain": [
       "4"
      ]
     },
     "execution_count": 21,
     "metadata": {},
     "output_type": "execute_result"
    }
   ],
   "source": [
    "len(d)"
   ]
  },
  {
   "cell_type": "code",
   "execution_count": 22,
   "id": "3d47ce4d",
   "metadata": {},
   "outputs": [
    {
     "data": {
      "text/plain": [
       "3"
      ]
     },
     "execution_count": 22,
     "metadata": {},
     "output_type": "execute_result"
    }
   ],
   "source": [
    "d[key]"
   ]
  },
  {
   "cell_type": "code",
   "execution_count": 43,
   "id": "7c001311",
   "metadata": {},
   "outputs": [
    {
     "name": "stdout",
     "output_type": "stream",
     "text": [
      "{'blue': [2, 4], 'red': [1], 'yellow': [1, 3]}\n"
     ]
    }
   ],
   "source": [
    "from collections import defaultdict\n",
    "s = [('yellow', 1), ('blue', 2), ('yellow', 3), ('blue', 4), ('red', 1)]\n",
    "d = defaultdict(list)\n",
    "for k, v in s:\n",
    "    d[k].append(v)\n",
    "\n",
    "sorted(d.items())\n",
    "s= dict(sorted(d.items(),key= lambda x:x[0]))\n",
    "print(s)"
   ]
  },
  {
   "cell_type": "markdown",
   "id": "3f32becd",
   "metadata": {},
   "source": [
    "##### D[key]= new_value\n",
    "return: một dict mới với key cũ hoặc key mới đồng thời value mới được lạp vào\n",
    "\n",
    "- nếu key cũ thì value_new sẽ thay thế value cũ\n",
    "- nếu key mới( tức là dict ban đầu chưa tồn tạ key đó) thì coi như thêm 1 cặp key- value"
   ]
  },
  {
   "cell_type": "code",
   "execution_count": 51,
   "id": "2f7e129f",
   "metadata": {},
   "outputs": [
    {
     "data": {
      "text/plain": [
       "{'a': 5, 'b': 2, 'c': 4, 'e': 5, 'f': 4}"
      ]
     },
     "execution_count": 51,
     "metadata": {},
     "output_type": "execute_result"
    }
   ],
   "source": [
    "D[\"a\"]=5\n",
    "D[\"f\"]=4\n",
    "D"
   ]
  },
  {
   "cell_type": "markdown",
   "id": "aeca59e4",
   "metadata": {},
   "source": [
    "##### xóa key, value"
   ]
  },
  {
   "cell_type": "code",
   "execution_count": 56,
   "id": "b8f653fe",
   "metadata": {},
   "outputs": [
    {
     "ename": "KeyError",
     "evalue": "'a'",
     "output_type": "error",
     "traceback": [
      "\u001b[1;31m---------------------------------------------------------------------------\u001b[0m",
      "\u001b[1;31mKeyError\u001b[0m                                  Traceback (most recent call last)",
      "\u001b[1;32m<ipython-input-56-26fe92dc7182>\u001b[0m in \u001b[0;36m<module>\u001b[1;34m\u001b[0m\n\u001b[1;32m----> 1\u001b[1;33m \u001b[1;32mdel\u001b[0m \u001b[0mD\u001b[0m\u001b[1;33m[\u001b[0m\u001b[1;34m\"a\"\u001b[0m\u001b[1;33m]\u001b[0m\u001b[1;33m\u001b[0m\u001b[1;33m\u001b[0m\u001b[0m\n\u001b[0m",
      "\u001b[1;31mKeyError\u001b[0m: 'a'"
     ]
    }
   ],
   "source": [
    "del D[\"a\"]     # xóa 1 cặp key-value"
   ]
  },
  {
   "cell_type": "code",
   "execution_count": 58,
   "id": "0a6ad895",
   "metadata": {},
   "outputs": [
    {
     "data": {
      "text/plain": [
       "{'b': 2, 'c': 4, 'e': 5, 'f': 4}"
      ]
     },
     "execution_count": 58,
     "metadata": {},
     "output_type": "execute_result"
    }
   ],
   "source": [
    "D"
   ]
  },
  {
   "cell_type": "code",
   "execution_count": 66,
   "id": "06d59d4a",
   "metadata": {},
   "outputs": [
    {
     "data": {
      "text/plain": [
       "{}"
      ]
     },
     "execution_count": 66,
     "metadata": {},
     "output_type": "execute_result"
    }
   ],
   "source": [
    "D.clear()   # xóa toàn bộ\n",
    "D\n"
   ]
  },
  {
   "cell_type": "markdown",
   "id": "6b76a87a",
   "metadata": {},
   "source": [
    "##### items()\n",
    "##### keys()\n",
    "##### values()"
   ]
  },
  {
   "cell_type": "code",
   "execution_count": 67,
   "id": "b302de6a",
   "metadata": {},
   "outputs": [
    {
     "data": {
      "text/plain": [
       "dict_items([('a', 3), ('c', 4), ('f', 5), ('g', 7)])"
      ]
     },
     "execution_count": 67,
     "metadata": {},
     "output_type": "execute_result"
    }
   ],
   "source": [
    "d.items()"
   ]
  },
  {
   "cell_type": "code",
   "execution_count": 68,
   "id": "e32adeea",
   "metadata": {},
   "outputs": [
    {
     "data": {
      "text/plain": [
       "dict_keys(['a', 'c', 'f', 'g'])"
      ]
     },
     "execution_count": 68,
     "metadata": {},
     "output_type": "execute_result"
    }
   ],
   "source": [
    "d.keys()"
   ]
  },
  {
   "cell_type": "code",
   "execution_count": 70,
   "id": "d09a23f5",
   "metadata": {},
   "outputs": [
    {
     "data": {
      "text/plain": [
       "dict_values([3, 4, 5, 7])"
      ]
     },
     "execution_count": 70,
     "metadata": {},
     "output_type": "execute_result"
    }
   ],
   "source": [
    "d.values()"
   ]
  },
  {
   "cell_type": "code",
   "execution_count": 71,
   "id": "e5a6a5b1",
   "metadata": {},
   "outputs": [
    {
     "data": {
      "text/plain": [
       "[3, 4, 5, 7]"
      ]
     },
     "execution_count": 71,
     "metadata": {},
     "output_type": "execute_result"
    }
   ],
   "source": [
    "list(d.values())"
   ]
  },
  {
   "cell_type": "code",
   "execution_count": 73,
   "id": "4f0e258f",
   "metadata": {},
   "outputs": [
    {
     "data": {
      "text/plain": [
       "['a', 'c', 'f', 'g']"
      ]
     },
     "execution_count": 73,
     "metadata": {},
     "output_type": "execute_result"
    }
   ],
   "source": [
    "list(d)"
   ]
  },
  {
   "cell_type": "code",
   "execution_count": 80,
   "id": "3c90b104",
   "metadata": {},
   "outputs": [
    {
     "ename": "AttributeError",
     "evalue": "'dict' object has no attribute 'popleft'",
     "output_type": "error",
     "traceback": [
      "\u001b[1;31m---------------------------------------------------------------------------\u001b[0m",
      "\u001b[1;31mAttributeError\u001b[0m                            Traceback (most recent call last)",
      "\u001b[1;32m<ipython-input-80-97dc5a4a0fd9>\u001b[0m in \u001b[0;36m<module>\u001b[1;34m\u001b[0m\n\u001b[1;32m----> 1\u001b[1;33m \u001b[0md\u001b[0m\u001b[1;33m.\u001b[0m\u001b[0mpopleft\u001b[0m\u001b[1;33m(\u001b[0m\u001b[0mkey\u001b[0m\u001b[1;33m)\u001b[0m\u001b[1;33m\u001b[0m\u001b[1;33m\u001b[0m\u001b[0m\n\u001b[0m",
      "\u001b[1;31mAttributeError\u001b[0m: 'dict' object has no attribute 'popleft'"
     ]
    }
   ],
   "source": [
    "d.pop(key)"
   ]
  },
  {
   "cell_type": "code",
   "execution_count": 79,
   "id": "5a8fdb7b",
   "metadata": {},
   "outputs": [
    {
     "data": {
      "text/plain": [
       "{'c': 4, 'f': 5, 'g': 7}"
      ]
     },
     "execution_count": 79,
     "metadata": {},
     "output_type": "execute_result"
    }
   ],
   "source": [
    "d"
   ]
  },
  {
   "cell_type": "markdown",
   "id": "13020102",
   "metadata": {},
   "source": [
    "##### update()"
   ]
  },
  {
   "cell_type": "code",
   "execution_count": 81,
   "id": "1b3729fb",
   "metadata": {},
   "outputs": [],
   "source": [
    "d[\"a\"]=2"
   ]
  },
  {
   "cell_type": "code",
   "execution_count": 86,
   "id": "2fb26bae",
   "metadata": {},
   "outputs": [
    {
     "data": {
      "text/plain": [
       "{'c': 10, 'f': 5, 'g': 7, 'a': 2, 'k': 7}"
      ]
     },
     "execution_count": 86,
     "metadata": {},
     "output_type": "execute_result"
    }
   ],
   "source": [
    "d_2= {'c':10,'k':7}\n",
    "d.update(d_2)\n",
    "d"
   ]
  },
  {
   "cell_type": "code",
   "execution_count": 93,
   "id": "fbc3a2a1",
   "metadata": {},
   "outputs": [
    {
     "data": {
      "text/plain": [
       "{'c': 15, 'f': 5, 'g': 7, 'a': 2, 'k': 7}"
      ]
     },
     "execution_count": 93,
     "metadata": {},
     "output_type": "execute_result"
    }
   ],
   "source": [
    "d.update({'c':15, 'g':7})\n",
    "d"
   ]
  },
  {
   "cell_type": "markdown",
   "id": "aac26f52",
   "metadata": {},
   "source": [
    "##### d.get(key,[,default])\n",
    "_ nếu key tồn tại thì trả về value của nó (đấy cũng giống như index thôi)\n",
    "\n",
    "_ nếu key không tồn tạo hoặc sai sẽ trả về giá trị mặc định [,default] mà ta đã cài đặt "
   ]
  },
  {
   "cell_type": "code",
   "execution_count": 96,
   "id": "ba3c5897",
   "metadata": {},
   "outputs": [
    {
     "data": {
      "text/plain": [
       "'key m không tồn tại'"
      ]
     },
     "execution_count": 96,
     "metadata": {},
     "output_type": "execute_result"
    }
   ],
   "source": [
    "d.get('m','key m không tồn tại')   # 'm' không có trng dict d nên kết qảu trả về là mặc định default= m không tồn tại"
   ]
  },
  {
   "cell_type": "markdown",
   "id": "3db5c5b1",
   "metadata": {},
   "source": [
    "##### reversed(d) - reversed(d.keys()) - reversed(d.values())\n",
    "return: đảo ngược lại thứ tự ban đầu, chọn hình thức hiển thị là key (d.keys()) hoặc value (d.values())"
   ]
  },
  {
   "cell_type": "code",
   "execution_count": 104,
   "id": "b9005603",
   "metadata": {},
   "outputs": [],
   "source": [
    "A= {'g':4,'a':1,'d':3,'c':4,'b':10,'f':4}"
   ]
  },
  {
   "cell_type": "code",
   "execution_count": 105,
   "id": "625cc8df",
   "metadata": {},
   "outputs": [
    {
     "data": {
      "text/plain": [
       "['f', 'b', 'c', 'd', 'a', 'g']"
      ]
     },
     "execution_count": 105,
     "metadata": {},
     "output_type": "execute_result"
    }
   ],
   "source": [
    "list(reversed(A))"
   ]
  },
  {
   "cell_type": "code",
   "execution_count": 106,
   "id": "0374c3ff",
   "metadata": {},
   "outputs": [
    {
     "data": {
      "text/plain": [
       "['f', 'b', 'c', 'd', 'a', 'g']"
      ]
     },
     "execution_count": 106,
     "metadata": {},
     "output_type": "execute_result"
    }
   ],
   "source": [
    "list(reversed(A.keys()))"
   ]
  },
  {
   "cell_type": "code",
   "execution_count": 107,
   "id": "9a0caa39",
   "metadata": {},
   "outputs": [
    {
     "data": {
      "text/plain": [
       "[4, 10, 4, 3, 1, 4]"
      ]
     },
     "execution_count": 107,
     "metadata": {},
     "output_type": "execute_result"
    }
   ],
   "source": [
    "list(reversed(A.values()))"
   ]
  },
  {
   "cell_type": "markdown",
   "id": "214fc81f",
   "metadata": {},
   "source": [
    "# DICTIONARY VÀ CÁC VẤN ĐỀ LIÊN QUAN:\n",
    "###### Tạo dict\n",
    "###### Biến đổi, chuyển đổi với các kiểu dữ liệu khác\n",
    "###### Sắp xếp dict\n",
    "###### dict với hàm của collections: \n",
    "###### bài tập tổng hợp vận dụng"
   ]
  },
  {
   "cell_type": "markdown",
   "id": "b9caf23a",
   "metadata": {},
   "source": [
    "### 1. Tạo một dict theo nhiều nguồn/ cách khác nhau:"
   ]
  },
  {
   "cell_type": "markdown",
   "id": "cdfa0ee2",
   "metadata": {},
   "source": [
    "#### 1.1 Từ list 1 chiều: thông thường và listcomprehention\n",
    "- Với dạng đơn giản các key khoog trùng nhau:\n",
    "\n",
    "   Đề bài: cho list A=['a',1,'b',2,'c',3,'e',7]    .Hãy tạo 1 dict theo dict comprehention"
   ]
  },
  {
   "cell_type": "code",
   "execution_count": 108,
   "id": "ad99f65c",
   "metadata": {},
   "outputs": [],
   "source": [
    "A=['a',1,'b',2,'c',3,'e',7]"
   ]
  },
  {
   "cell_type": "code",
   "execution_count": 112,
   "id": "3a98151b",
   "metadata": {},
   "outputs": [
    {
     "data": {
      "text/plain": [
       "{'a': 1, 'b': 2, 'c': 3, 'e': 7}"
      ]
     },
     "execution_count": 112,
     "metadata": {},
     "output_type": "execute_result"
    }
   ],
   "source": [
    "dict_1={A[i]:A[i+1] for i in range(0,len(A),2)}\n",
    "dict_1"
   ]
  },
  {
   "cell_type": "code",
   "execution_count": 134,
   "id": "90b7f4ef",
   "metadata": {},
   "outputs": [
    {
     "name": "stdout",
     "output_type": "stream",
     "text": [
      "{'a': 1, 'b': 2, 'c': 3, 'e': 7}\n"
     ]
    }
   ],
   "source": [
    "dict_2={}\n",
    "for i in range(0,len(A),2):\n",
    "    dict_2[A[i]]=A[i+1]\n",
    "print(dict_2)"
   ]
  },
  {
   "cell_type": "markdown",
   "id": "ec98e917",
   "metadata": {},
   "source": [
    " * khi mà các key trùng nhau, dict cuối cùng phải có dạng \"2 chiều\". nghĩa là type(value)= list\n",
    " \n",
    " ví dụ: cho list B sau, chuyển về dict\n",
    " \n",
    " B=['a',1,'b',2,'c',3,'d',2,'a',5,'b',8]"
   ]
  },
  {
   "cell_type": "code",
   "execution_count": 143,
   "id": "0f16ccdd",
   "metadata": {},
   "outputs": [],
   "source": [
    "B=['a',1,'b',2,'c',3,'d',2,'a',5,'b',8]"
   ]
  },
  {
   "cell_type": "code",
   "execution_count": 145,
   "id": "cb3f525a",
   "metadata": {},
   "outputs": [
    {
     "data": {
      "text/plain": [
       "{'a': 5, 'b': 8, 'c': 3, 'd': 2}"
      ]
     },
     "execution_count": 145,
     "metadata": {},
     "output_type": "execute_result"
    }
   ],
   "source": [
    "dict_3= {B[i]:B[i+1] for i in range(0,len(B),2)}\n",
    "dict_3"
   ]
  },
  {
   "cell_type": "code",
   "execution_count": 147,
   "id": "c4b47292",
   "metadata": {},
   "outputs": [
    {
     "name": "stdout",
     "output_type": "stream",
     "text": [
      "{'a': [1, 5], 'b': [2, 8], 'c': [3], 'd': [2]}\n"
     ]
    }
   ],
   "source": [
    "dict_4={}\n",
    "for i in range(0,len(B),2):\n",
    "    if B[i] not in dict_4:\n",
    "        dict_4[B[i]]=[B[i+1]]\n",
    "    else:\n",
    "        dict_4[B[i]].append(B[i+1])\n",
    "print(dict_4)"
   ]
  },
  {
   "cell_type": "markdown",
   "id": "cb5fdb9d",
   "metadata": {},
   "source": [
    "### 1.2 Từ hàm enumerate:"
   ]
  },
  {
   "cell_type": "markdown",
   "id": "f8642b12",
   "metadata": {},
   "source": [
    "- ví dụ 1:"
   ]
  },
  {
   "cell_type": "code",
   "execution_count": 157,
   "id": "081a1c9f",
   "metadata": {},
   "outputs": [
    {
     "name": "stdout",
     "output_type": "stream",
     "text": [
      "{0: 'a', 1: 'b', 2: 'c', 3: 'd', 4: 'e'}\n"
     ]
    }
   ],
   "source": [
    "C= ['a','b','c','d','e']\n",
    "dict_5={}\n",
    "for key, value in enumerate(C):\n",
    "    #key,value=value,key    ---> để đổi chỗ key và value\n",
    "    dict_5[key]=value\n",
    "print(dict_5)"
   ]
  },
  {
   "cell_type": "markdown",
   "id": "553fe96d",
   "metadata": {},
   "source": [
    "- ví dụ 2:"
   ]
  },
  {
   "cell_type": "code",
   "execution_count": 1,
   "id": "ab2fcc8a",
   "metadata": {
    "scrolled": true
   },
   "outputs": [
    {
     "name": "stdout",
     "output_type": "stream",
     "text": [
      "{'a': [0, 6], 'b': [1, 7], 'c': [2], 'd': [3], 'e': [4], 'f': [5]}\n"
     ]
    }
   ],
   "source": [
    "D= ['a','b','c','d','e','f','a','b']\n",
    "dict_6={}\n",
    "for key, value in enumerate(D):\n",
    "    key, value=value, key\n",
    "    if key not in dict_6:\n",
    "        dict_6[key]=[value]\n",
    "    else:\n",
    "        dict_6[key].append(value)\n",
    "print(dict_6)"
   ]
  },
  {
   "cell_type": "code",
   "execution_count": null,
   "id": "31f21d4f",
   "metadata": {},
   "outputs": [],
   "source": []
  },
  {
   "cell_type": "markdown",
   "id": "b26eede2",
   "metadata": {},
   "source": [
    "### 1.3 Từ hàm zip:\n",
    "Ví dụ đơn giản: từ 2 list a và b hãy tạo dict"
   ]
  },
  {
   "cell_type": "code",
   "execution_count": 3,
   "id": "b03ab0d0",
   "metadata": {},
   "outputs": [
    {
     "data": {
      "text/plain": [
       "{1: 'a', 2: 'b', 3: 'c', 4: 'd', 5: 'e'}"
      ]
     },
     "execution_count": 3,
     "metadata": {},
     "output_type": "execute_result"
    }
   ],
   "source": [
    "a=[1,2,3,4,5]\n",
    "b=['a','b','c','d','e']\n",
    "zip(a,b)\n",
    "dict(zip(a,b))"
   ]
  },
  {
   "cell_type": "markdown",
   "id": "542bd93e",
   "metadata": {},
   "source": [
    "ví dụ 2:\n",
    "    "
   ]
  },
  {
   "cell_type": "code",
   "execution_count": 6,
   "id": "2189af1b",
   "metadata": {},
   "outputs": [
    {
     "name": "stdout",
     "output_type": "stream",
     "text": [
      "{'a': [1, 2], 'b': [3, 4], 'd': [5, 7], 'e': [6]}\n"
     ]
    }
   ],
   "source": [
    "a=[1,2,3,4,5,6,7]\n",
    "b=['a','a','b','b','d','e','d']\n",
    "d={}\n",
    "for key, value in zip(b,a):\n",
    "    if key not in d:\n",
    "        d[key]=[value]\n",
    "    else:\n",
    "        d[key].append(value)\n",
    "print(d)"
   ]
  },
  {
   "cell_type": "markdown",
   "id": "618f9c5b",
   "metadata": {},
   "source": [
    "## 2. Sắp xếp dictionary \n",
    "- Ta có thể săp xếp theo key hoặc theo value. Tuy nhiên ngoài các tườn hợp dict đơn giản 1 chiều cần xét đến trường hợp dict có 2 chiều. Cụ thê sẽ được trình bày ở 2 ví dụ sau đây\n"
   ]
  },
  {
   "cell_type": "markdown",
   "id": "3ea9533d",
   "metadata": {},
   "source": [
    "###### example 1:\n",
    "    A={'g':34,'f':20,'c':12,'j':42,'a':11}\n",
    "    \n",
    "sắp xếp A theo key và value"
   ]
  },
  {
   "cell_type": "code",
   "execution_count": 9,
   "id": "1ddd9d29",
   "metadata": {},
   "outputs": [
    {
     "data": {
      "text/plain": [
       "{'a': 11, 'c': 12, 'f': 20, 'g': 34, 'j': 42}"
      ]
     },
     "execution_count": 9,
     "metadata": {},
     "output_type": "execute_result"
    }
   ],
   "source": [
    "# sắp xếp theo key:\n",
    "A={'g':34,'f':20,'c':12,'j':42,'a':11}\n",
    "sort_A= sorted(A.items(),key=lambda x:x[0])\n",
    "A=dict(sort_A)\n",
    "A"
   ]
  },
  {
   "cell_type": "code",
   "execution_count": 12,
   "id": "915c1998",
   "metadata": {},
   "outputs": [
    {
     "name": "stdout",
     "output_type": "stream",
     "text": [
      "{'a': 11, 'c': 12, 'f': 20, 'g': 34, 'j': 42}\n"
     ]
    }
   ],
   "source": [
    "# sắp xếp theo value:\n",
    "sort_B= sorted(A.items(),key= lambda x:x[1])\n",
    "B= dict(sort_B)\n",
    "print(B)"
   ]
  },
  {
   "cell_type": "markdown",
   "id": "6895be61",
   "metadata": {},
   "source": [
    "###### example 2:\n",
    "    D= {'a':[2,3,1],'f':[4,6,1],'g':[1,5,3],'d':[2,2,1]}"
   ]
  },
  {
   "cell_type": "markdown",
   "id": "d085df2f",
   "metadata": {},
   "source": [
    "- sắp xếp theo value va fkhoong cần giữ vị trí ban đầu cho các cặp key- value"
   ]
  },
  {
   "cell_type": "code",
   "execution_count": 1,
   "id": "81cd9791",
   "metadata": {},
   "outputs": [
    {
     "name": "stdout",
     "output_type": "stream",
     "text": [
      "{'f': [4, 6, 1], 'a': [2, 3, 1], 'd': [2, 2, 1], 'g': [1, 5, 3]}\n"
     ]
    }
   ],
   "source": [
    "D= {'a':[2,3,1],'f':[4,6,1],'g':[1,5,3],'d':[2,2,1]}\n",
    "sort_D=sorted(D.items(),reverse= True, key= lambda x: x[1])\n",
    "d= dict(sort_D)\n",
    "print(d)"
   ]
  },
  {
   "cell_type": "markdown",
   "id": "b639af75",
   "metadata": {},
   "source": [
    "- Sắp xếp theo value và giữ nguyên vị trí của các cặp key-value"
   ]
  },
  {
   "cell_type": "code",
   "execution_count": 2,
   "id": "39a0b31b",
   "metadata": {},
   "outputs": [
    {
     "name": "stdout",
     "output_type": "stream",
     "text": [
      "{'a': [1, 2, 3], 'f': [1, 4, 6], 'g': [1, 3, 5], 'd': [1, 2, 2]}\n"
     ]
    }
   ],
   "source": [
    "a= list(D.values())     # tạo list chứa value của D\n",
    "p=[]                   # tạo list rỗng, sau này đóng vai trò list([value]) cho D để zip()\n",
    "for i in a:            #tạo vòng lặp để xét các phần tử trong list a\n",
    "    i.sort()          # sắp xếp cho các phần tử con trong các phần tử của a\n",
    "    p.append(i)\n",
    "b=list(D.keys())\n",
    "D={}\n",
    "for k, v in zip(b,p):\n",
    "    D[k]= v\n",
    "print(D)\n",
    "    "
   ]
  },
  {
   "cell_type": "code",
   "execution_count": 7,
   "id": "80a83ed6",
   "metadata": {},
   "outputs": [
    {
     "data": {
      "text/plain": [
       "[('a', [1, 2, 3]), ('f', [1, 4, 6]), ('g', [1, 3, 5]), ('d', [1, 2, 2])]"
      ]
     },
     "execution_count": 7,
     "metadata": {},
     "output_type": "execute_result"
    }
   ],
   "source": [
    "list(D.items())"
   ]
  },
  {
   "cell_type": "code",
   "execution_count": null,
   "id": "ca67ca73",
   "metadata": {},
   "outputs": [],
   "source": []
  },
  {
   "cell_type": "markdown",
   "id": "30aa9fcd",
   "metadata": {},
   "source": [
    "## 3. Biến đổi dictionary"
   ]
  },
  {
   "cell_type": "code",
   "execution_count": null,
   "id": "acf8754d",
   "metadata": {},
   "outputs": [],
   "source": [
    "- "
   ]
  },
  {
   "cell_type": "code",
   "execution_count": 4,
   "id": "0333f9e1",
   "metadata": {},
   "outputs": [
    {
     "name": "stdout",
     "output_type": "stream",
     "text": [
      "[('a', 1), ('b', 2), ('c', 3), ('c', 4), ('d', 5)]\n"
     ]
    },
    {
     "data": {
      "text/plain": [
       "{'a': 1, 'b': 2, 'c': 4, 'd': 5}"
      ]
     },
     "execution_count": 4,
     "metadata": {},
     "output_type": "execute_result"
    }
   ],
   "source": [
    "a=[1,2,3,4,5,6]     # biến đổi dict\n",
    "b=['a','b','c','c','d']\n",
    "p=[]\n",
    "for key, value in zip(b,a):\n",
    "    p.append((key,value))\n",
    "print(p)\n"
   ]
  },
  {
   "cell_type": "code",
   "execution_count": 10,
   "id": "6f8ca3ec",
   "metadata": {},
   "outputs": [
    {
     "name": "stdout",
     "output_type": "stream",
     "text": [
      "['a', 'b', 'c', 'c', 'd']\n",
      "[1, 2, 3, 4, 5]\n"
     ]
    }
   ],
   "source": [
    "a=[]\n",
    "b= []\n",
    "for k,v in p:\n",
    "    a.append(k)\n",
    "    b.append(v)\n",
    "print(a)\n",
    "print(b)"
   ]
  },
  {
   "cell_type": "markdown",
   "id": "7a5ae291",
   "metadata": {},
   "source": [
    "## 4. Dict with collections_defaultdict"
   ]
  },
  {
   "cell_type": "code",
   "execution_count": 13,
   "id": "cebe58bf",
   "metadata": {},
   "outputs": [
    {
     "name": "stdout",
     "output_type": "stream",
     "text": [
      "{'yellow': [1, 3], 'blue': [2, 4], 'red': [1]}\n"
     ]
    }
   ],
   "source": [
    "from collections import defaultdict\n",
    "s = [('yellow', 1), ('blue', 2), ('yellow', 3), ('blue', 4), ('red', 1)]\n",
    "d = defaultdict(list)\n",
    "for k, v in s:\n",
    "    d[k].append(v)\n",
    "print(dict(d))"
   ]
  },
  {
   "cell_type": "markdown",
   "id": "97f173bf",
   "metadata": {},
   "source": [
    "# 5. Bài tập tổng hợp dict:"
   ]
  },
  {
   "cell_type": "code",
   "execution_count": null,
   "id": "2377aaf3",
   "metadata": {},
   "outputs": [],
   "source": []
  },
  {
   "cell_type": "code",
   "execution_count": null,
   "id": "5c14c44d",
   "metadata": {},
   "outputs": [],
   "source": []
  },
  {
   "cell_type": "code",
   "execution_count": null,
   "id": "95c8722a",
   "metadata": {},
   "outputs": [],
   "source": []
  }
 ],
 "metadata": {
  "kernelspec": {
   "display_name": "Python 3",
   "language": "python",
   "name": "python3"
  },
  "language_info": {
   "codemirror_mode": {
    "name": "ipython",
    "version": 3
   },
   "file_extension": ".py",
   "mimetype": "text/x-python",
   "name": "python",
   "nbconvert_exporter": "python",
   "pygments_lexer": "ipython3",
   "version": "3.8.8"
  }
 },
 "nbformat": 4,
 "nbformat_minor": 5
}
