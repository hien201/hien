{
 "cells": [
  {
   "cell_type": "markdown",
   "id": "0530d4bc",
   "metadata": {},
   "source": [
    "# 2. List- mảng một chiều"
   ]
  },
  {
   "cell_type": "code",
   "execution_count": 2,
   "id": "443acafc",
   "metadata": {},
   "outputs": [
    {
     "name": "stdout",
     "output_type": "stream",
     "text": [
      "{'a': 1, 'b': 2, 'c': 3}\n"
     ]
    }
   ],
   "source": [
    " # creata a dictionary from a list:\n",
    "    \n",
    "def Convert(lst):\n",
    "    res_dct = {lst[i]: lst[i + 1] for i in range(0, len(lst), 2)}\n",
    "    return res_dct\n",
    "         \n",
    "# Driver code\n",
    "lst = ['a', 1, 'b', 2, 'c', 3]\n",
    "print(Convert(lst))"
   ]
  },
  {
   "cell_type": "code",
   "execution_count": 18,
   "id": "59b680ee",
   "metadata": {},
   "outputs": [
    {
     "name": "stdout",
     "output_type": "stream",
     "text": [
      "<map object at 0x0000024B40EB5FA0>\n"
     ]
    }
   ],
   "source": [
    "def calculateSquare(n):\n",
    "    return n*n\n",
    "\n",
    "\n",
    "numbers = (1, 2, 3, 4)\n",
    "result = map(calculateSquare, numbers)\n",
    "print(result)\n",
    "\n",
    "# converting map object to set\n",
    "numbersSquare = list(result)\n",
    "print(numbersSquare)"
   ]
  },
  {
   "cell_type": "markdown",
   "id": "e5a7a0b1",
   "metadata": {},
   "source": [
    "## 2.1 Khởi tạo  List 1 chiều từ những nguồn khác nhau:"
   ]
  },
  {
   "cell_type": "code",
   "execution_count": 9,
   "id": "139b061d",
   "metadata": {},
   "outputs": [
    {
     "data": {
      "text/plain": [
       "[1, 2, 3, 4, 5, 6, 7, 8, 9]"
      ]
     },
     "execution_count": 9,
     "metadata": {},
     "output_type": "execute_result"
    }
   ],
   "source": [
    "#  tạo lits từ hàm range\n",
    "list(range(1,10))"
   ]
  },
  {
   "cell_type": "code",
   "execution_count": 17,
   "id": "ef85c2c9",
   "metadata": {},
   "outputs": [
    {
     "data": {
      "text/plain": [
       "[10, 9, 8, 7, 6, 5, 4, 3, 2]"
      ]
     },
     "execution_count": 17,
     "metadata": {},
     "output_type": "execute_result"
    }
   ],
   "source": [
    "list(range(1,10,2))\n"
   ]
  },
  {
   "cell_type": "code",
   "execution_count": 15,
   "id": "12aed6ee",
   "metadata": {},
   "outputs": [
    {
     "data": {
      "text/plain": [
       "[10, 9, 8, 7, 6, 5, 4, 3, 2]"
      ]
     },
     "execution_count": 15,
     "metadata": {},
     "output_type": "execute_result"
    }
   ],
   "source": [
    "list(range(10,1,-1))   # giảm dần"
   ]
  },
  {
   "cell_type": "markdown",
   "id": "23abcec9",
   "metadata": {},
   "source": [
    "##### Từ phương  thức map( huật toán , căn cứ )\n",
    "* thuật toán: là công cụ để biến đổi nguyên liệu\n",
    "* căn cứ : là nguyên liệu đầu vào, thường là 1 str"
   ]
  },
  {
   "cell_type": "code",
   "execution_count": 23,
   "id": "48997648",
   "metadata": {},
   "outputs": [
    {
     "name": "stdout",
     "output_type": "stream",
     "text": [
      "[1, 4, 9, 16, 25]\n"
     ]
    }
   ],
   "source": [
    "# từ phương thức Map()\n",
    "str_goc= (1,2,3,4,5)   # chuẩn bị str gốc để lấy đó làm căn cứ tí nữa chạy theo thuật toán của Map(n)\n",
    "def Map(n):            # tạo một hàm Map(n) để tí nữa gọi\n",
    "    return n**2\n",
    "x=  map(Map, str_goc)  # tạo một phương thức map()\n",
    "list_over= list(x)\n",
    "print(list_over)        # kết quả"
   ]
  },
  {
   "cell_type": "markdown",
   "id": "f87a5823",
   "metadata": {},
   "source": [
    "## 2.2 Dãy số nguyên tố\n",
    "\n",
    "Vi du 1:"
   ]
  },
  {
   "cell_type": "code",
   "execution_count": 3,
   "id": "853b7d46",
   "metadata": {},
   "outputs": [
    {
     "name": "stdout",
     "output_type": "stream",
     "text": [
      "nhap vao mot so tu nhien n:10\n",
      "[2, 3, 5, 7]\n"
     ]
    }
   ],
   "source": [
    "count= 0   # tạo biến đếm\n",
    "P=[]       # tạo list rỗng ban đầu\n",
    "m=0        # tạo số nguyên đầu tiên, sau này nó cứ đếm cho tới khi =n-1\n",
    "n= int(input(\"nhap vao mot so tu nhien n:\"))\n",
    "while count <n:\n",
    "    s=0                    # tạo biến đếm trong vòng lặp, để làm điều kiện append m vào P\n",
    "    for k in range(1,m):\n",
    "        if m%k==0:         # xét điều kiện tối thiểu để là số nguyên tố\n",
    "            s=s+1\n",
    "    if s==1:\n",
    "        P.append(m)\n",
    "    count= count+1          # đêm biến count để tiếp tục vòng lặp\n",
    "    m= m+1                  # đếm biến m để tiếp tục xét m mới\n",
    "print(P)"
   ]
  },
  {
   "cell_type": "markdown",
   "id": "9699eb7b",
   "metadata": {},
   "source": [
    "vi du 2: tách số ra khỏi list bao gồm số và chữ"
   ]
  },
  {
   "cell_type": "code",
   "execution_count": 3,
   "id": "b6a7af5a",
   "metadata": {},
   "outputs": [],
   "source": [
    "A= [1.2, 2,\"a\", \"b\",3,2.3]\n",
    "b=[]"
   ]
  },
  {
   "cell_type": "code",
   "execution_count": null,
   "id": "554260a4",
   "metadata": {},
   "outputs": [],
   "source": [
    "for i in range(len(A)):\n",
    "    if type(A[i]) != str:\n",
    "        x= A[i]\n",
    "        b.append(x)\n",
    "print(b)"
   ]
  },
  {
   "cell_type": "markdown",
   "id": "0cd70afd",
   "metadata": {},
   "source": [
    "ví dụ 3: nhập lần lượt danh sách 5 quốc gia rồi in ra màn hình"
   ]
  },
  {
   "cell_type": "code",
   "execution_count": 50,
   "id": "1a28fc32",
   "metadata": {},
   "outputs": [
    {
     "name": "stdout",
     "output_type": "stream",
     "text": [
      "nhap vao quoc gia thu 1:d\n",
      "nhap vao quoc gia thu 2:s\n",
      "nhap vao quoc gia thu 3:s\n",
      "nhap vao quoc gia thu 4:s\n",
      "nhap vao quoc gia thu 5:s\n",
      "['d', 's', 's', 's', 's']\n"
     ]
    }
   ],
   "source": [
    "count= 0\n",
    "DS= []\n",
    "while count < 5:\n",
    "    n=input(\"nhap vao quoc gia thu \" +str(count+1)+ \":\")\n",
    "    DS= DS +[n]\n",
    "    count= count+1\n",
    "print(DS)\n",
    "\n",
    "    "
   ]
  },
  {
   "cell_type": "code",
   "execution_count": 11,
   "id": "240828e7",
   "metadata": {},
   "outputs": [
    {
     "name": "stdout",
     "output_type": "stream",
     "text": [
      "[['Cat', 4], ['Dog', 2], ['Fish', 1], ['Parrot', 5]]\n"
     ]
    }
   ],
   "source": [
    "petAges = {\"Cat\": 4, \"Dog\": 2, \"Fish\": 1, \"Parrot\": 5}\n",
    "# This will be our list, epmty for now\n",
    "petAgesList = []\n",
    "# Search through the dictionary and find all the keys and values\n",
    "for key, value in petAges.items(): \n",
    "  petAgesList.append([key, value]) # Add the key and value to the list\n",
    "print(petAgesList) # Print the now-filled list\n",
    "# Output: [['Cat', 4], ['Dog', 2], ['Fish', 1], ['Parrot', 5]]"
   ]
  },
  {
   "cell_type": "code",
   "execution_count": 12,
   "id": "5fb184ec",
   "metadata": {},
   "outputs": [
    {
     "data": {
      "text/plain": [
       "dict_items([('Cat', 4), ('Dog', 2), ('Fish', 1), ('Parrot', 5)])"
      ]
     },
     "execution_count": 12,
     "metadata": {},
     "output_type": "execute_result"
    }
   ],
   "source": [
    "petAges.items()"
   ]
  },
  {
   "cell_type": "markdown",
   "id": "94369fea",
   "metadata": {},
   "source": [
    "# List 2 chiều và các phép biến đổi"
   ]
  },
  {
   "cell_type": "markdown",
   "id": "4dbc8ed7",
   "metadata": {},
   "source": [
    "* chuyển từ dict về list 2 chiều\n",
    "\n",
    "vi du 1:\n"
   ]
  },
  {
   "cell_type": "code",
   "execution_count": 28,
   "id": "4524b6fa",
   "metadata": {},
   "outputs": [],
   "source": [
    "dict_1= {'A': 2,'B':3,'C':4,'D':5}\n",
    "x= dict_1.items()                         # "
   ]
  },
  {
   "cell_type": "code",
   "execution_count": 29,
   "id": "928286f7",
   "metadata": {},
   "outputs": [
    {
     "name": "stdout",
     "output_type": "stream",
     "text": [
      "[['A', 5], ['B', 5], ['C', 5], ['D', 5]]\n"
     ]
    }
   ],
   "source": [
    "list_1= []\n",
    "for key,values in x:\n",
    "    list_1.append([key,value])\n",
    "print(list_1)"
   ]
  },
  {
   "cell_type": "markdown",
   "id": "1dd036e6",
   "metadata": {},
   "source": [
    "cach 2;\n"
   ]
  },
  {
   "cell_type": "code",
   "execution_count": 30,
   "id": "0966fd76",
   "metadata": {},
   "outputs": [
    {
     "name": "stdout",
     "output_type": "stream",
     "text": [
      "18\n",
      "24\n",
      "32\n"
     ]
    }
   ],
   "source": [
    "ages = [5, 12, 17, 18, 24, 32]\n",
    "def myFunc(x):\n",
    "    if x < 18:\n",
    "        return False\n",
    "    else:\n",
    "        return True\n",
    "adults = filter(myFunc, ages)\n",
    "for x in adults:\n",
    "    print(x)    "
   ]
  },
  {
   "cell_type": "markdown",
   "id": "12042419",
   "metadata": {},
   "source": [
    "### Tạo một list 2 chiều với số cột , hàng cho trước\n",
    "ví dụ:\n",
    "\n",
    "viết một chương trình có 2 chữ số, X, Y nhận giá trị từ đầu vào và tạo ra một mảng 2 chiều. Giá trị phần tử trong hàng thứ i và cột thứ j của mảng phải là i*j.\n",
    "\n",
    "Lưu ý: i=0,1,...,X-1; j=0,1,...,Y-1."
   ]
  },
  {
   "cell_type": "code",
   "execution_count": 20,
   "id": "eccce362",
   "metadata": {},
   "outputs": [
    {
     "name": "stdout",
     "output_type": "stream",
     "text": [
      "nhap vao X: 3\n",
      "nhap vao Y: 4\n",
      "[[11, 11, 11, 11], [11, 11, 11, 11], [11, 11, 11, 11]]\n"
     ]
    }
   ],
   "source": [
    "X=int(input(\"nhap vao X: \"))\n",
    "Y= int(input(\"nhap vao Y: \"))\n",
    "A= [[j for j in range(Y)]  for i in range(X)]     # định hình cho list cuối cùng\n",
    "for i in range(X):\n",
    "    for j in range(Y):\n",
    "        for k in list(range(12)):\n",
    "            A[i][j]=(k)\n",
    "print(A)\n",
    "            "
   ]
  },
  {
   "cell_type": "code",
   "execution_count": null,
   "id": "90e1f0a1",
   "metadata": {},
   "outputs": [],
   "source": []
  },
  {
   "cell_type": "code",
   "execution_count": 1,
   "id": "657c7648",
   "metadata": {},
   "outputs": [],
   "source": [
    "x= list(range(100))"
   ]
  },
  {
   "cell_type": "code",
   "execution_count": 16,
   "id": "bac819c0",
   "metadata": {},
   "outputs": [
    {
     "name": "stdout",
     "output_type": "stream",
     "text": [
      "[0, 1, 4, 9, 16, 25, 36, 49, 64, 81]\n"
     ]
    }
   ],
   "source": [
    "import math\n",
    "s=[]\n",
    "m= 2\n",
    "count =0\n",
    "for m in range(100):\n",
    "    x= math.sqrt(m)\n",
    "    if type(int(x))== int and x== int(x):\n",
    "        s.append(m)\n",
    "    count= count+1\n",
    "    m= m+1\n",
    "print(s)"
   ]
  },
  {
   "cell_type": "code",
   "execution_count": 5,
   "id": "9686c81f",
   "metadata": {},
   "outputs": [
    {
     "name": "stdout",
     "output_type": "stream",
     "text": [
      "100\n"
     ]
    }
   ],
   "source": [
    "print(m)"
   ]
  },
  {
   "cell_type": "code",
   "execution_count": 17,
   "id": "a9acd70e",
   "metadata": {},
   "outputs": [
    {
     "name": "stdout",
     "output_type": "stream",
     "text": [
      "[0, 1, 4, 9, 16, 25, 36, 49, 64, 81]\n",
      "<filter object at 0x000002032F778AC0>\n"
     ]
    }
   ],
   "source": [
    "def func(n):\n",
    "    i= math.sqrt(n)\n",
    "    return type(int(i)) == int and i== int(i)\n",
    "j= filter(func, list(range(100)))\n",
    "p=[]\n",
    "for k in j:\n",
    "    p.append(k)\n",
    "print(p)\n",
    "print(j)\n",
    "    "
   ]
  },
  {
   "cell_type": "code",
   "execution_count": null,
   "id": "e2b82fb8",
   "metadata": {},
   "outputs": [],
   "source": []
  },
  {
   "cell_type": "code",
   "execution_count": null,
   "id": "0c8d24b6",
   "metadata": {},
   "outputs": [],
   "source": []
  },
  {
   "cell_type": "code",
   "execution_count": 2,
   "id": "623c8783",
   "metadata": {},
   "outputs": [
    {
     "name": "stdout",
     "output_type": "stream",
     "text": [
      "your password:12345\n",
      "pass\n",
      "do you want continute? Y/Ny\n",
      "now, do you want?\n"
     ]
    }
   ],
   "source": [
    "password='12345'\n",
    "while True:\n",
    "    x=input(\"your password:\")\n",
    "    if x!=password:\n",
    "        print(\" nhap lai di\")\n",
    "    elif x==password:\n",
    "        print(\"pass\")\n",
    "        while input(\"do you want continute? Y/N\")== \"Y\":\n",
    "            print(\" yes, wellcome!\")\n",
    "        break      \n",
    "print(\"now, do you want?\")\n",
    "        \n"
   ]
  },
  {
   "cell_type": "code",
   "execution_count": 1,
   "id": "e14eb500",
   "metadata": {},
   "outputs": [
    {
     "name": "stdout",
     "output_type": "stream",
     "text": [
      "Whats your name: ak\n",
      "Nice name ak\n"
     ]
    }
   ],
   "source": [
    "while True:\n",
    "  #Code here eg.\n",
    "    name = input(\"Whats your name: \")\n",
    "    print(\"Nice name \" + name)\n",
    "    break\n"
   ]
  },
  {
   "cell_type": "markdown",
   "id": "7b78f8f6",
   "metadata": {},
   "source": [
    "### sắp xếp list 2 chiều:\n",
    "- Theo chiều tăng dần\n",
    "\n",
    "- Theo chiều giảm dần"
   ]
  },
  {
   "cell_type": "code",
   "execution_count": 1,
   "id": "6271cac6",
   "metadata": {},
   "outputs": [],
   "source": [
    "A=[[1,8,0],[2,5,3],[3,1,5]]"
   ]
  },
  {
   "cell_type": "code",
   "execution_count": 2,
   "id": "c13e7546",
   "metadata": {},
   "outputs": [
    {
     "name": "stdout",
     "output_type": "stream",
     "text": [
      "[[0, 1, 8], [2, 3, 5], [1, 3, 5]]\n"
     ]
    },
    {
     "data": {
      "text/plain": [
       "<filter at 0x24ee55b5eb0>"
      ]
     },
     "execution_count": 2,
     "metadata": {},
     "output_type": "execute_result"
    }
   ],
   "source": [
    "def func(n):\n",
    "    n.sort()\n",
    "    return n\n",
    "x= filter(func,A)\n",
    "p=[]\n",
    "for k in x:\n",
    "    p.append(k)\n",
    "print(p)\n",
    "x"
   ]
  },
  {
   "cell_type": "code",
   "execution_count": null,
   "id": "29afbd92",
   "metadata": {},
   "outputs": [],
   "source": []
  }
 ],
 "metadata": {
  "kernelspec": {
   "display_name": "Python 3",
   "language": "python",
   "name": "python3"
  },
  "language_info": {
   "codemirror_mode": {
    "name": "ipython",
    "version": 3
   },
   "file_extension": ".py",
   "mimetype": "text/x-python",
   "name": "python",
   "nbconvert_exporter": "python",
   "pygments_lexer": "ipython3",
   "version": "3.8.8"
  }
 },
 "nbformat": 4,
 "nbformat_minor": 5
}
